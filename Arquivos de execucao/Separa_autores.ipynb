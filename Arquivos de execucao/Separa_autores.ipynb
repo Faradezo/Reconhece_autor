{
 "cells": [
  {
   "cell_type": "code",
   "execution_count": 195,
   "id": "62bc5f12",
   "metadata": {},
   "outputs": [],
   "source": [
    "#Codigo de separar o arquivo UolBlogs por autores\n",
    "import pandas as pd\n",
    "import json"
   ]
  },
  {
   "cell_type": "code",
   "execution_count": 211,
   "id": "804dcf53",
   "metadata": {},
   "outputs": [],
   "source": [
    "df_uol = pd.read_json('https://raw.githubusercontent.com/Faradezo/Reconhece_autor/main/UolBlogs.json')\n",
    "df_ag = pd.read_json('https://raw.githubusercontent.com/Faradezo/Reconhece_autor/main/alexandre_garcia.json')\n",
    "df_aj = pd.read_json('https://raw.githubusercontent.com/Faradezo/Reconhece_autor/main/arnaldo_jabor.json')"
   ]
  },
  {
   "cell_type": "code",
   "execution_count": 205,
   "id": "74c2a390",
   "metadata": {},
   "outputs": [],
   "source": [
    "#separa autores e conta quantidade de artigos\n",
    "autores = {}\n",
    "for autor in df_uol['author']:\n",
    "    if autor not in autores.keys():\n",
    "        autores[autor] = 1\n",
    "    else:\n",
    "        autores[autor] += 1"
   ]
  },
  {
   "cell_type": "code",
   "execution_count": 206,
   "id": "dbddd639",
   "metadata": {
    "scrolled": false
   },
   "outputs": [
    {
     "data": {
      "text/plain": [
       "{'Josias de Souza': 539,\n",
       " 'Ricardo Kotscho': 493,\n",
       " 'Kennedy Alencar': 544,\n",
       " 'Reinaldo Azevedo': 548,\n",
       " 'Thays Oyama': 424,\n",
       " 'Juca Kfouri': 538,\n",
       " 'Wálter Maierovitch': 13,\n",
       " 'Leonardo Sakamoto': 539,\n",
       " 'Tales Faria': 549,\n",
       " 'Carla Araujo': 539,\n",
       " 'Mauricio Stycer': 548}"
      ]
     },
     "execution_count": 206,
     "metadata": {},
     "output_type": "execute_result"
    }
   ],
   "source": [
    "autores"
   ]
  },
  {
   "cell_type": "code",
   "execution_count": 198,
   "id": "f23c8946",
   "metadata": {},
   "outputs": [],
   "source": [
    "for autor in autores.keys():\n",
    "    data = {}\n",
    "    dt = []\n",
    "    textos = df_uol[df_uol['author'] == autor]\n",
    "    post = {}\n",
    "    for texto in range(len(textos)):\n",
    "        if textos.values[texto][1] not in data.keys():\n",
    "            dt.append({\n",
    "                'titulo' : textos.values[texto][1],\n",
    "                'texto' : textos.values[texto][2]\n",
    "            })\n",
    "    with open(f'{autor}.json', 'w', encoding=\"utf-8\") as f:\n",
    "        json.dump(dt,f)"
   ]
  },
  {
   "cell_type": "code",
   "execution_count": 215,
   "id": "ce4139fc",
   "metadata": {},
   "outputs": [],
   "source": [
    "#colocar os outros dois no mesmo padrao\n",
    "autor = df_aj.values[0][0]\n",
    "data = {}\n",
    "dt = []\n",
    "post = {}\n",
    "for texto in range(len(df_aj)):\n",
    "    if textos.values[texto][1] not in data.keys():\n",
    "        dt.append({\n",
    "            'titulo' : df_aj.values[texto][1],\n",
    "            'texto' : df_aj.values[texto][2]\n",
    "        })\n",
    "with open(f'{autor}.json', 'w', encoding=\"utf-8\") as f:\n",
    "    json.dump(dt,f)"
   ]
  },
  {
   "cell_type": "code",
   "execution_count": 216,
   "id": "009e19e7",
   "metadata": {},
   "outputs": [],
   "source": [
    "autor = df_ag.values[0][0]\n",
    "data = {}\n",
    "dt = []\n",
    "post = {}\n",
    "for texto in range(len(df_aj)):\n",
    "    if textos.values[texto][1] not in data.keys():\n",
    "        dt.append({\n",
    "            'titulo' : df_aj.values[texto][1],\n",
    "            'texto' : df_aj.values[texto][2]\n",
    "        })\n",
    "with open(f'{autor}.json', 'w', encoding=\"utf-8\") as f:\n",
    "    json.dump(dt,f)"
   ]
  }
 ],
 "metadata": {
  "kernelspec": {
   "display_name": "Python 3 (ipykernel)",
   "language": "python",
   "name": "python3"
  },
  "language_info": {
   "codemirror_mode": {
    "name": "ipython",
    "version": 3
   },
   "file_extension": ".py",
   "mimetype": "text/x-python",
   "name": "python",
   "nbconvert_exporter": "python",
   "pygments_lexer": "ipython3",
   "version": "3.9.7"
  }
 },
 "nbformat": 4,
 "nbformat_minor": 5
}
