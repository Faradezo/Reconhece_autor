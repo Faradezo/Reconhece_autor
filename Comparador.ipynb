{
 "cells": [
  {
   "cell_type": "code",
   "execution_count": 37,
   "id": "c100cf2d",
   "metadata": {},
   "outputs": [],
   "source": [
    "import pickle\n",
    "import pandas as pd\n",
    "import numpy as np\n",
    "import nltk"
   ]
  },
  {
   "cell_type": "code",
   "execution_count": 23,
   "id": "08a2c7b6",
   "metadata": {},
   "outputs": [],
   "source": [
    "link = 'https://raw.githubusercontent.com/Faradezo/Reconhece_autor/main/sdp.pkl'\n",
    "a = pd.read_pickle(link)"
   ]
  },
  {
   "cell_type": "code",
   "execution_count": 36,
   "id": "e7e1fdb9",
   "metadata": {},
   "outputs": [
    {
     "ename": "AttributeError",
     "evalue": "'str' object has no attribute 'apply'",
     "output_type": "error",
     "traceback": [
      "\u001b[1;31m---------------------------------------------------------------------------\u001b[0m",
      "\u001b[1;31mAttributeError\u001b[0m                            Traceback (most recent call last)",
      "\u001b[1;32m~\\AppData\\Local\\Temp/ipykernel_11068/2373287190.py\u001b[0m in \u001b[0;36m<module>\u001b[1;34m\u001b[0m\n\u001b[1;32m----> 1\u001b[1;33m \u001b[0mtexto\u001b[0m \u001b[1;33m=\u001b[0m \u001b[0mtexto\u001b[0m\u001b[1;33m.\u001b[0m\u001b[0mapply\u001b[0m\u001b[1;33m(\u001b[0m\u001b[1;32mlambda\u001b[0m \u001b[0mx\u001b[0m\u001b[1;33m:\u001b[0m \u001b[1;34m' '\u001b[0m\u001b[1;33m.\u001b[0m\u001b[0mjoin\u001b[0m\u001b[1;33m(\u001b[0m\u001b[1;33m[\u001b[0m\u001b[0mword\u001b[0m \u001b[1;32mfor\u001b[0m \u001b[0mword\u001b[0m \u001b[1;32min\u001b[0m \u001b[0mx\u001b[0m\u001b[1;33m.\u001b[0m\u001b[0msplit\u001b[0m\u001b[1;33m(\u001b[0m\u001b[1;33m)\u001b[0m \u001b[1;32mif\u001b[0m \u001b[0mword\u001b[0m \u001b[1;32mnot\u001b[0m \u001b[1;32min\u001b[0m \u001b[1;33m(\u001b[0m\u001b[0mstop\u001b[0m\u001b[1;33m)\u001b[0m\u001b[1;33m]\u001b[0m\u001b[1;33m)\u001b[0m\u001b[1;33m)\u001b[0m\u001b[1;33m\u001b[0m\u001b[1;33m\u001b[0m\u001b[0m\n\u001b[0m",
      "\u001b[1;31mAttributeError\u001b[0m: 'str' object has no attribute 'apply'"
     ]
    }
   ],
   "source": [
    "for line in texto_para_verificacao: \n",
    "    texto.append(line.decode('utf-8'))\n",
    "\n",
    "nltk.download('stopwords')                              # baixa arquivo com as stopwords\n",
    "stopwords = nltk.corpus.stopwords.words('portuguese')   #seleciona a tabela de palavras em portugues\n",
    "\n",
    "for i in range(len(texto)):\n",
    "    for chars in string.punctuation:\n",
    "        texto[i] = texto[i].replace(chars,'') # !\"#$%&\\'()*+,-./:;<=>?@[\\\\]^_`{|}~\n",
    "        texto[i] = texto[i].replace('—','')   # este simbolo nao esta incluso no strings porem existe no documento\n",
    "\n",
    "mydict = {}                             # cria um dicionário vazio\n",
    "\n",
    "for line in texto:\n",
    "    line = line.lower()                    # converte para lower\n",
    "    words = line.split()                   # separa cada palavra\n",
    "    for word in words:                     # para cada palavra em words\n",
    "        if word not in stopwords:          # exclui palavras genericas\n",
    "            if word not in mydict.keys():  # se palavra não está no dicionário\n",
    "                mydict[word] = 1           # acrescenta a word com o valor 1\n",
    "            else:                          # se a entrada já existe\n",
    "                mydict[word] += 1          # soma 1 ao valor já existente"
   ]
  },
  {
   "cell_type": "code",
   "execution_count": null,
   "id": "41befbce",
   "metadata": {},
   "outputs": [],
   "source": []
  },
  {
   "cell_type": "code",
   "execution_count": 32,
   "id": "a3612221",
   "metadata": {},
   "outputs": [],
   "source": [
    "texto_para_verificacao = "
   ]
  },
  {
   "cell_type": "code",
   "execution_count": 35,
   "id": "2b792317",
   "metadata": {},
   "outputs": [
    {
     "data": {
      "text/plain": [
       "'colar o texto aqui'"
      ]
     },
     "execution_count": 35,
     "metadata": {},
     "output_type": "execute_result"
    }
   ],
   "source": [
    "texto"
   ]
  }
 ],
 "metadata": {
  "kernelspec": {
   "display_name": "Python 3 (ipykernel)",
   "language": "python",
   "name": "python3"
  },
  "language_info": {
   "codemirror_mode": {
    "name": "ipython",
    "version": 3
   },
   "file_extension": ".py",
   "mimetype": "text/x-python",
   "name": "python",
   "nbconvert_exporter": "python",
   "pygments_lexer": "ipython3",
   "version": "3.9.7"
  }
 },
 "nbformat": 4,
 "nbformat_minor": 5
}
