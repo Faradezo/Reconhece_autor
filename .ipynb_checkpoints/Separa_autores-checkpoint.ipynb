{
 "cells": [
  {
   "cell_type": "code",
   "execution_count": null,
   "id": "7db4b517",
   "metadata": {},
   "outputs": [],
   "source": [
    "#Codigo de separar o arquivo UolBlogs por autores\n",
    "import pandas as pd"
   ]
  },
  {
   "cell_type": "code",
   "execution_count": null,
   "id": "618d50bb",
   "metadata": {},
   "outputs": [],
   "source": [
    "df_uol = pd.read_json('https://raw.githubusercontent.com/Faradezo/Reconhece_autor/main/UolBlogs.json')"
   ]
  },
  {
   "cell_type": "code",
   "execution_count": null,
   "id": "de3bb9c1",
   "metadata": {},
   "outputs": [],
   "source": [
    "df_uol['author']"
   ]
  }
 ],
 "metadata": {
  "kernelspec": {
   "display_name": "Python 3 (ipykernel)",
   "language": "python",
   "name": "python3"
  },
  "language_info": {
   "codemirror_mode": {
    "name": "ipython",
    "version": 3
   },
   "file_extension": ".py",
   "mimetype": "text/x-python",
   "name": "python",
   "nbconvert_exporter": "python",
   "pygments_lexer": "ipython3",
   "version": "3.9.7"
  }
 },
 "nbformat": 4,
 "nbformat_minor": 5
}
