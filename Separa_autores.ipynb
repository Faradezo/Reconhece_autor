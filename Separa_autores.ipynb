{
 "cells": [
  {
   "cell_type": "code",
   "execution_count": 1,
   "id": "566c63ae",
   "metadata": {},
   "outputs": [],
   "source": [
    "#Codigo de separar o arquivo UolBlogs por autores\n",
    "!pip install unidecode\n",
    "\n",
    "import unidecode\n",
    "import pandas as pd\n",
    "import json"
   ]
  },
  {
   "cell_type": "code",
   "execution_count": 16,
   "id": "5e4b81b8",
   "metadata": {},
   "outputs": [],
   "source": [
    "df_uol = pd.read_json('https://raw.githubusercontent.com/Faradezo/Reconhece_autor/main/UolBlogs.json')\n",
    "df_ag = pd.read_json('https://raw.githubusercontent.com/Faradezo/Reconhece_autor/main/alexandre_garcia.json')\n",
    "df_aj = pd.read_json('https://raw.githubusercontent.com/Faradezo/Reconhece_autor/main/arnaldo_jabor.json')"
   ]
  },
  {
   "cell_type": "code",
   "execution_count": 205,
   "id": "1061dac7",
   "metadata": {},
   "outputs": [],
   "source": [
    "#separa autores e conta quantidade de artigos\n",
    "autores = {}\n",
    "for autor in df_uol['author']:\n",
    "    if autor not in autores.keys():\n",
    "        autores[autor] = 1\n",
    "    else:\n",
    "        autores[autor] += 1"
   ]
  },
  {
   "cell_type": "code",
   "execution_count": 206,
   "id": "51eb0ded",
   "metadata": {
    "scrolled": false
   },
   "outputs": [
    {
     "data": {
      "text/plain": [
       "{'Josias de Souza': 539,\n",
       " 'Ricardo Kotscho': 493,\n",
       " 'Kennedy Alencar': 544,\n",
       " 'Reinaldo Azevedo': 548,\n",
       " 'Thays Oyama': 424,\n",
       " 'Juca Kfouri': 538,\n",
       " 'Wálter Maierovitch': 13,\n",
       " 'Leonardo Sakamoto': 539,\n",
       " 'Tales Faria': 549,\n",
       " 'Carla Araujo': 539,\n",
       " 'Mauricio Stycer': 548}"
      ]
     },
     "execution_count": 206,
     "metadata": {},
     "output_type": "execute_result"
    }
   ],
   "source": [
    "autores"
   ]
  },
  {
   "cell_type": "code",
   "execution_count": 218,
   "id": "b2e0675b",
   "metadata": {},
   "outputs": [],
   "source": [
    "for autor in autores.keys():\n",
    "    data = {}\n",
    "    dt = []\n",
    "    textos = df_uol[df_uol['author'] == autor]\n",
    "    post = {}\n",
    "    for texto in range(len(textos)):\n",
    "        if textos.values[texto][1] not in data.keys():\n",
    "            dt.append({\n",
    "                'titulo' : textos.values[texto][1],\n",
    "                'texto' : textos.values[texto][2]\n",
    "            })\n",
    "    with open(f'{autor.replace(\" \", \"_\")}.json', 'w', encoding=\"utf-8\") as f:\n",
    "        json.dump(dt,f)"
   ]
  },
  {
   "cell_type": "code",
   "execution_count": 219,
   "id": "72d4f672",
   "metadata": {},
   "outputs": [],
   "source": [
    "#colocar os outros dois no mesmo padrao\n",
    "autor = df_aj.values[0][0].replace(\" \", \"_\")\n",
    "data = {}\n",
    "dt = []\n",
    "post = {}\n",
    "for texto in range(len(df_aj)):\n",
    "    if df_aj.values[texto][1] not in data.keys():\n",
    "        dt.append({\n",
    "            'titulo' : df_aj.values[texto][1],\n",
    "            'texto' : df_aj.values[texto][2]\n",
    "        })\n",
    "with open(f'{autor}.json', 'w', encoding=\"utf-8\") as f:\n",
    "    json.dump(dt,f)"
   ]
  },
  {
   "cell_type": "code",
   "execution_count": 15,
   "id": "4702a7a9",
   "metadata": {},
   "outputs": [],
   "source": [
    "autor = df_ag.values[0][0].replace(\" \", \"_\")\n",
    "data = {}\n",
    "dt = []\n",
    "post = {}\n",
    "for texto in range(len(df_ag)):\n",
    "    if df_ag.values[texto][1] not in data.keys():\n",
    "        dt.append({\n",
    "            'titulo' : df_ag.values[texto][1],\n",
    "            'texto' : df_ag.values[texto][2]\n",
    "        })\n",
    "with open(f'{autor}.json', 'w', encoding=\"utf-8\") as f:\n",
    "    json.dump(dt,f)"
   ]
  }
 ],
 "metadata": {
  "kernelspec": {
   "display_name": "Python 3 (ipykernel)",
   "language": "python",
   "name": "python3"
  },
  "language_info": {
   "codemirror_mode": {
    "name": "ipython",
    "version": 3
   },
   "file_extension": ".py",
   "mimetype": "text/x-python",
   "name": "python",
   "nbconvert_exporter": "python",
   "pygments_lexer": "ipython3",
   "version": "3.9.7"
  }
 },
 "nbformat": 4,
 "nbformat_minor": 5
}
