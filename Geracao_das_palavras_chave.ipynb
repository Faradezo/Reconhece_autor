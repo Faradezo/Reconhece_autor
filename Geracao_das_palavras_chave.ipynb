{
 "cells": [
  {
   "cell_type": "code",
   "execution_count": 2,
   "id": "53351b7a",
   "metadata": {},
   "outputs": [],
   "source": [
    "import glob, os"
   ]
  },
  {
   "cell_type": "code",
   "execution_count": 32,
   "id": "072c4abf",
   "metadata": {},
   "outputs": [],
   "source": [
    "def get_all_files(folder):\n",
    "    file_list = []\n",
    "    if os.path.exists(folder):\n",
    "        for root, dirs, files in os.walk(folder):\n",
    "            for file in files:\n",
    "                file_list.append(os.path.join(root,file))\n",
    "    return file_list"
   ]
  },
  {
   "cell_type": "code",
   "execution_count": 33,
   "id": "3248ceee",
   "metadata": {},
   "outputs": [],
   "source": [
    "colunistas = get_all_files('textos')"
   ]
  },
  {
   "cell_type": "code",
   "execution_count": 37,
   "id": "5f433b5f",
   "metadata": {},
   "outputs": [
    {
     "name": "stdout",
     "output_type": "stream",
     "text": [
      "https://raw.githubusercontent.com/Faradezo/Reconhece_autor/main/textos/Alexandre Garcia.json\n",
      "https://raw.githubusercontent.com/Faradezo/Reconhece_autor/main/textos/Arnaldo Jabor.json\n",
      "https://raw.githubusercontent.com/Faradezo/Reconhece_autor/main/textos/Carla Araujo.json\n",
      "https://raw.githubusercontent.com/Faradezo/Reconhece_autor/main/textos/Josias de Souza.json\n",
      "https://raw.githubusercontent.com/Faradezo/Reconhece_autor/main/textos/Juca Kfouri.json\n",
      "https://raw.githubusercontent.com/Faradezo/Reconhece_autor/main/textos/Kennedy Alencar.json\n",
      "https://raw.githubusercontent.com/Faradezo/Reconhece_autor/main/textos/Leonardo Sakamoto.json\n",
      "https://raw.githubusercontent.com/Faradezo/Reconhece_autor/main/textos/Mauricio Stycer.json\n",
      "https://raw.githubusercontent.com/Faradezo/Reconhece_autor/main/textos/Reinaldo Azevedo.json\n",
      "https://raw.githubusercontent.com/Faradezo/Reconhece_autor/main/textos/Ricardo Kotscho.json\n",
      "https://raw.githubusercontent.com/Faradezo/Reconhece_autor/main/textos/Tales Faria.json\n",
      "https://raw.githubusercontent.com/Faradezo/Reconhece_autor/main/textos/Thays Oyama.json\n",
      "https://raw.githubusercontent.com/Faradezo/Reconhece_autor/main/textos/Wálter Maierovitch.json\n"
     ]
    }
   ],
   "source": [
    "df_col = []\n",
    "for enu, colunista in enumerate(colunistas):\n",
    "    print(f'https://raw.githubusercontent.com/Faradezo/Reconhece_autor/main/textos/{colunista[7:]}')\n",
    "    \n",
    "    #df_col[enu] = pd.read_json('https://raw.githubusercontent.com/Faradezo/Reconhece_autor/main/textos/{colunista[7:]}')\n",
    "#colunistas\n",
    "#a[2][7:]"
   ]
  },
  {
   "cell_type": "code",
   "execution_count": 13,
   "id": "573ba93f",
   "metadata": {},
   "outputs": [
    {
     "ename": "OSError",
     "evalue": "[WinError 123] A sintaxe do nome do arquivo, do nome do diretório ou do rótulo do volume está incorreta: 'https://github.com/Faradezo/Reconhece_autor/tree/main/textos/'",
     "output_type": "error",
     "traceback": [
      "\u001b[1;31m---------------------------------------------------------------------------\u001b[0m",
      "\u001b[1;31mOSError\u001b[0m                                   Traceback (most recent call last)",
      "\u001b[1;32m~\\AppData\\Local\\Temp/ipykernel_7816/683284000.py\u001b[0m in \u001b[0;36m<module>\u001b[1;34m\u001b[0m\n\u001b[1;32m----> 1\u001b[1;33m \u001b[0mos\u001b[0m\u001b[1;33m.\u001b[0m\u001b[0mchdir\u001b[0m\u001b[1;33m(\u001b[0m\u001b[1;34m\"https://github.com/Faradezo/Reconhece_autor/tree/main/textos/\"\u001b[0m\u001b[1;33m)\u001b[0m\u001b[1;33m\u001b[0m\u001b[1;33m\u001b[0m\u001b[0m\n\u001b[0m\u001b[0;32m      2\u001b[0m \u001b[1;32mfor\u001b[0m \u001b[0mfile\u001b[0m \u001b[1;32min\u001b[0m \u001b[0mglob\u001b[0m\u001b[1;33m.\u001b[0m\u001b[0mglob\u001b[0m\u001b[1;33m(\u001b[0m\u001b[1;34m\"*.json\"\u001b[0m\u001b[1;33m)\u001b[0m\u001b[1;33m:\u001b[0m\u001b[1;33m\u001b[0m\u001b[1;33m\u001b[0m\u001b[0m\n\u001b[0;32m      3\u001b[0m     \u001b[0mprint\u001b[0m\u001b[1;33m(\u001b[0m\u001b[0mfile\u001b[0m\u001b[1;33m)\u001b[0m\u001b[1;33m\u001b[0m\u001b[1;33m\u001b[0m\u001b[0m\n",
      "\u001b[1;31mOSError\u001b[0m: [WinError 123] A sintaxe do nome do arquivo, do nome do diretório ou do rótulo do volume está incorreta: 'https://github.com/Faradezo/Reconhece_autor/tree/main/textos/'"
     ]
    }
   ],
   "source": [
    "os.chdir(\"https://github.com/Faradezo/Reconhece_autor/tree/main/textos/\")\n",
    "for file in glob.glob(\"*.json\"):\n",
    "    print(file)"
   ]
  }
 ],
 "metadata": {
  "kernelspec": {
   "display_name": "Python 3 (ipykernel)",
   "language": "python",
   "name": "python3"
  },
  "language_info": {
   "codemirror_mode": {
    "name": "ipython",
    "version": 3
   },
   "file_extension": ".py",
   "mimetype": "text/x-python",
   "name": "python",
   "nbconvert_exporter": "python",
   "pygments_lexer": "ipython3",
   "version": "3.9.7"
  }
 },
 "nbformat": 4,
 "nbformat_minor": 5
}
